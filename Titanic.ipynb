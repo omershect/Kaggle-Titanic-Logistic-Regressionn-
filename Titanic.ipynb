{
 "cells": [
  {
   "cell_type": "code",
   "execution_count": 87,
   "metadata": {},
   "outputs": [],
   "source": [
    "import pandas as pd \n",
    "import numpy as np\n",
    "from sklearn import preprocessing\n",
    "import matplotlib.pyplot as plt \n",
    "from sklearn.linear_model import LogisticRegression\n",
    "from sklearn.model_selection import train_test_split\n",
    "import seaborn as sns"
   ]
  },
  {
   "cell_type": "markdown",
   "metadata": {},
   "source": [
    "## Loadind Data \n",
    "Loading the Pre Processed Data \n",
    "Train, Test and combined Raw Data "
   ]
  },
  {
   "cell_type": "code",
   "execution_count": 88,
   "metadata": {},
   "outputs": [
    {
     "data": {
      "text/html": [
       "<div>\n",
       "<style scoped>\n",
       "    .dataframe tbody tr th:only-of-type {\n",
       "        vertical-align: middle;\n",
       "    }\n",
       "\n",
       "    .dataframe tbody tr th {\n",
       "        vertical-align: top;\n",
       "    }\n",
       "\n",
       "    .dataframe thead th {\n",
       "        text-align: right;\n",
       "    }\n",
       "</style>\n",
       "<table border=\"1\" class=\"dataframe\">\n",
       "  <thead>\n",
       "    <tr style=\"text-align: right;\">\n",
       "      <th></th>\n",
       "      <th>PassengerId</th>\n",
       "      <th>Survived</th>\n",
       "      <th>Pclass</th>\n",
       "      <th>Name</th>\n",
       "      <th>Sex</th>\n",
       "      <th>Age</th>\n",
       "      <th>SibSp</th>\n",
       "      <th>Parch</th>\n",
       "      <th>Ticket</th>\n",
       "      <th>Fare</th>\n",
       "      <th>...</th>\n",
       "      <th>GroupNo</th>\n",
       "      <th>TicketChar</th>\n",
       "      <th>TicketNumbers</th>\n",
       "      <th>TicketNumbers_Nor</th>\n",
       "      <th>Cabin_Charcter</th>\n",
       "      <th>Fare_Nor</th>\n",
       "      <th>AgeMean_Nor</th>\n",
       "      <th>AgeMedian_Nor</th>\n",
       "      <th>AgeNormal_Nor</th>\n",
       "      <th>GroupNo_Nor</th>\n",
       "    </tr>\n",
       "  </thead>\n",
       "  <tbody>\n",
       "    <tr>\n",
       "      <th>1</th>\n",
       "      <td>1</td>\n",
       "      <td>0</td>\n",
       "      <td>3</td>\n",
       "      <td>Braund, Mr. Owen Harris</td>\n",
       "      <td>male</td>\n",
       "      <td>22.0</td>\n",
       "      <td>1</td>\n",
       "      <td>0</td>\n",
       "      <td>A/5 21171</td>\n",
       "      <td>7.2500</td>\n",
       "      <td>...</td>\n",
       "      <td>2</td>\n",
       "      <td>A5</td>\n",
       "      <td>21171</td>\n",
       "      <td>0.006825</td>\n",
       "      <td>U</td>\n",
       "      <td>0.014151</td>\n",
       "      <td>0.271174</td>\n",
       "      <td>0.271174</td>\n",
       "      <td>0.271174</td>\n",
       "      <td>0.1</td>\n",
       "    </tr>\n",
       "    <tr>\n",
       "      <th>2</th>\n",
       "      <td>2</td>\n",
       "      <td>1</td>\n",
       "      <td>1</td>\n",
       "      <td>Cumings, Mrs. John Bradley (Florence Briggs Th...</td>\n",
       "      <td>female</td>\n",
       "      <td>38.0</td>\n",
       "      <td>1</td>\n",
       "      <td>0</td>\n",
       "      <td>PC 17599</td>\n",
       "      <td>71.2833</td>\n",
       "      <td>...</td>\n",
       "      <td>2</td>\n",
       "      <td>PC</td>\n",
       "      <td>17599</td>\n",
       "      <td>0.005674</td>\n",
       "      <td>C</td>\n",
       "      <td>0.139136</td>\n",
       "      <td>0.472229</td>\n",
       "      <td>0.472229</td>\n",
       "      <td>0.472229</td>\n",
       "      <td>0.1</td>\n",
       "    </tr>\n",
       "    <tr>\n",
       "      <th>3</th>\n",
       "      <td>3</td>\n",
       "      <td>1</td>\n",
       "      <td>3</td>\n",
       "      <td>Heikkinen, Miss. Laina</td>\n",
       "      <td>female</td>\n",
       "      <td>26.0</td>\n",
       "      <td>0</td>\n",
       "      <td>0</td>\n",
       "      <td>STON/O2. 3101282</td>\n",
       "      <td>7.9250</td>\n",
       "      <td>...</td>\n",
       "      <td>1</td>\n",
       "      <td>STONO2</td>\n",
       "      <td>3101282</td>\n",
       "      <td>0.999989</td>\n",
       "      <td>U</td>\n",
       "      <td>0.015469</td>\n",
       "      <td>0.321438</td>\n",
       "      <td>0.321438</td>\n",
       "      <td>0.321438</td>\n",
       "      <td>0.0</td>\n",
       "    </tr>\n",
       "    <tr>\n",
       "      <th>4</th>\n",
       "      <td>4</td>\n",
       "      <td>1</td>\n",
       "      <td>1</td>\n",
       "      <td>Futrelle, Mrs. Jacques Heath (Lily May Peel)</td>\n",
       "      <td>female</td>\n",
       "      <td>35.0</td>\n",
       "      <td>1</td>\n",
       "      <td>0</td>\n",
       "      <td>113803</td>\n",
       "      <td>53.1000</td>\n",
       "      <td>...</td>\n",
       "      <td>2</td>\n",
       "      <td>U</td>\n",
       "      <td>113803</td>\n",
       "      <td>0.036694</td>\n",
       "      <td>C</td>\n",
       "      <td>0.103644</td>\n",
       "      <td>0.434531</td>\n",
       "      <td>0.434531</td>\n",
       "      <td>0.434531</td>\n",
       "      <td>0.1</td>\n",
       "    </tr>\n",
       "    <tr>\n",
       "      <th>5</th>\n",
       "      <td>5</td>\n",
       "      <td>0</td>\n",
       "      <td>3</td>\n",
       "      <td>Allen, Mr. William Henry</td>\n",
       "      <td>male</td>\n",
       "      <td>35.0</td>\n",
       "      <td>0</td>\n",
       "      <td>0</td>\n",
       "      <td>373450</td>\n",
       "      <td>8.0500</td>\n",
       "      <td>...</td>\n",
       "      <td>1</td>\n",
       "      <td>U</td>\n",
       "      <td>373450</td>\n",
       "      <td>0.120416</td>\n",
       "      <td>U</td>\n",
       "      <td>0.015713</td>\n",
       "      <td>0.434531</td>\n",
       "      <td>0.434531</td>\n",
       "      <td>0.434531</td>\n",
       "      <td>0.0</td>\n",
       "    </tr>\n",
       "  </tbody>\n",
       "</table>\n",
       "<p>5 rows × 28 columns</p>\n",
       "</div>"
      ],
      "text/plain": [
       "   PassengerId  Survived  Pclass  \\\n",
       "1            1         0       3   \n",
       "2            2         1       1   \n",
       "3            3         1       3   \n",
       "4            4         1       1   \n",
       "5            5         0       3   \n",
       "\n",
       "                                                Name     Sex   Age  SibSp  \\\n",
       "1                            Braund, Mr. Owen Harris    male  22.0      1   \n",
       "2  Cumings, Mrs. John Bradley (Florence Briggs Th...  female  38.0      1   \n",
       "3                             Heikkinen, Miss. Laina  female  26.0      0   \n",
       "4       Futrelle, Mrs. Jacques Heath (Lily May Peel)  female  35.0      1   \n",
       "5                           Allen, Mr. William Henry    male  35.0      0   \n",
       "\n",
       "   Parch            Ticket     Fare     ...     GroupNo TicketChar  \\\n",
       "1      0         A/5 21171   7.2500     ...           2         A5   \n",
       "2      0          PC 17599  71.2833     ...           2         PC   \n",
       "3      0  STON/O2. 3101282   7.9250     ...           1     STONO2   \n",
       "4      0            113803  53.1000     ...           2          U   \n",
       "5      0            373450   8.0500     ...           1          U   \n",
       "\n",
       "   TicketNumbers TicketNumbers_Nor  Cabin_Charcter  Fare_Nor  AgeMean_Nor  \\\n",
       "1          21171          0.006825               U  0.014151     0.271174   \n",
       "2          17599          0.005674               C  0.139136     0.472229   \n",
       "3        3101282          0.999989               U  0.015469     0.321438   \n",
       "4         113803          0.036694               C  0.103644     0.434531   \n",
       "5         373450          0.120416               U  0.015713     0.434531   \n",
       "\n",
       "   AgeMedian_Nor  AgeNormal_Nor GroupNo_Nor  \n",
       "1       0.271174       0.271174         0.1  \n",
       "2       0.472229       0.472229         0.1  \n",
       "3       0.321438       0.321438         0.0  \n",
       "4       0.434531       0.434531         0.1  \n",
       "5       0.434531       0.434531         0.0  \n",
       "\n",
       "[5 rows x 28 columns]"
      ]
     },
     "execution_count": 88,
     "metadata": {},
     "output_type": "execute_result"
    }
   ],
   "source": [
    "Train = pd.read_csv(\"TrainData.csv\",index_col=0)\n",
    "Test = pd.read_csv(\"TestData.csv\",index_col=0)\n",
    "Raw = pd.read_csv(\"RawData.csv\",index_col=0)\n",
    "Train.head()\n"
   ]
  },
  {
   "cell_type": "markdown",
   "metadata": {},
   "source": [
    "Print the Column's Names "
   ]
  },
  {
   "cell_type": "code",
   "execution_count": 89,
   "metadata": {},
   "outputs": [
    {
     "name": "stdout",
     "output_type": "stream",
     "text": [
      "['PassengerId', 'Survived', 'Pclass', 'Name', 'Sex', 'Age', 'SibSp', 'Parch', 'Ticket', 'Fare', 'Cabin', 'Embarked', 'Sexb', 'Title', 'AgeMean', 'AgeMedian', 'AgeNormal', 'Isalone', 'GroupNo', 'TicketChar', 'TicketNumbers', 'TicketNumbers_Nor', 'Cabin_Charcter', 'Fare_Nor', 'AgeMean_Nor', 'AgeMedian_Nor', 'AgeNormal_Nor', 'GroupNo_Nor']\n"
     ]
    }
   ],
   "source": [
    "columnNames = list(Train.head(0)) \n",
    "print(columnNames)"
   ]
  },
  {
   "cell_type": "markdown",
   "metadata": {},
   "source": [
    "## Create dummy variables - Train \n",
    "Create dummy variables from all categorical variables "
   ]
  },
  {
   "cell_type": "code",
   "execution_count": 90,
   "metadata": {},
   "outputs": [
    {
     "data": {
      "text/plain": [
       "(891, 83)"
      ]
     },
     "execution_count": 90,
     "metadata": {},
     "output_type": "execute_result"
    }
   ],
   "source": [
    "cat_vars=['Pclass','Sex','Title','Cabin_Charcter','TicketChar','Embarked']\n",
    "for var in cat_vars:\n",
    "    cat_list='var'+'_'+var\n",
    "    #Train Data \n",
    "    cat_list = pd.get_dummies(Train[var], prefix=var)\n",
    "    Train1 = pd.concat([Train, cat_list] , axis=1)\n",
    "    Train=Train1\n",
    "   \n",
    "cat_vars=['Pclass','Sex','Title','Cabin_Charcter','TicketChar','Embarked','Name','Ticket','Cabin','Age','Sexb','PassengerId']\n",
    "data_vars=Train.columns.values.tolist()\n",
    "to_keep=[i for i in data_vars if i not in cat_vars]\n",
    "Train.shape"
   ]
  },
  {
   "cell_type": "code",
   "execution_count": 91,
   "metadata": {},
   "outputs": [
    {
     "data": {
      "text/plain": [
       "array(['Survived', 'SibSp', 'Parch', 'Fare', 'AgeMean', 'AgeMedian',\n",
       "       'AgeNormal', 'Isalone', 'GroupNo', 'TicketNumbers',\n",
       "       'TicketNumbers_Nor', 'Fare_Nor', 'AgeMean_Nor', 'AgeMedian_Nor',\n",
       "       'AgeNormal_Nor', 'GroupNo_Nor', 'Pclass_1', 'Pclass_2', 'Pclass_3',\n",
       "       'Sex_female', 'Sex_male', 'Title_Army', 'Title_Dr.',\n",
       "       'Title_Master', 'Title_Miss', 'Title_Mr.', 'Title_Mrs',\n",
       "       'Title_Rev.', 'Cabin_Charcter_A', 'Cabin_Charcter_B',\n",
       "       'Cabin_Charcter_C', 'Cabin_Charcter_D', 'Cabin_Charcter_E',\n",
       "       'Cabin_Charcter_F', 'Cabin_Charcter_G', 'Cabin_Charcter_U',\n",
       "       'TicketChar_A4', 'TicketChar_A5', 'TicketChar_AS', 'TicketChar_C',\n",
       "       'TicketChar_CA', 'TicketChar_CASOTON', 'TicketChar_FC',\n",
       "       'TicketChar_FCC', 'TicketChar_Fa', 'TicketChar_LINE',\n",
       "       'TicketChar_PC', 'TicketChar_PP', 'TicketChar_PPP',\n",
       "       'TicketChar_SC', 'TicketChar_SCA4', 'TicketChar_SCAH',\n",
       "       'TicketChar_SCAHBasle', 'TicketChar_SCOW', 'TicketChar_SCPARIS',\n",
       "       'TicketChar_SCParis', 'TicketChar_SOC', 'TicketChar_SOP',\n",
       "       'TicketChar_SOPP', 'TicketChar_SOTONO2', 'TicketChar_SOTONOQ',\n",
       "       'TicketChar_SP', 'TicketChar_STONO2', 'TicketChar_SWPP',\n",
       "       'TicketChar_U', 'TicketChar_WC', 'TicketChar_WEP', 'Embarked_C',\n",
       "       'Embarked_Q', 'Embarked_S', 'Embarked_U'], dtype=object)"
      ]
     },
     "execution_count": 91,
     "metadata": {},
     "output_type": "execute_result"
    }
   ],
   "source": [
    "Train=Train[to_keep]\n",
    "Train.columns.values"
   ]
  },
  {
   "cell_type": "markdown",
   "metadata": {},
   "source": [
    "## Create dummy variables - Test\n",
    "Create dummy variables from all categorical variables"
   ]
  },
  {
   "cell_type": "code",
   "execution_count": 92,
   "metadata": {},
   "outputs": [
    {
     "data": {
      "text/plain": [
       "(418, 71)"
      ]
     },
     "execution_count": 92,
     "metadata": {},
     "output_type": "execute_result"
    }
   ],
   "source": [
    "cat_vars=['Pclass','Sex','Title','Cabin_Charcter','TicketChar','Embarked']\n",
    "for var in cat_vars:\n",
    "    cat_list='var'+'_'+var\n",
    "    #Test Data \n",
    "    cat_list = pd.get_dummies(Test[var], prefix=var)\n",
    "    Test1 = pd.concat([Test, cat_list] , axis=1)\n",
    "    Test=Test1\n",
    "   \n",
    "cat_vars=['Pclass','Sex','Title','Cabin_Charcter','TicketChar','Embarked','Name','Ticket','Cabin','Age','Sexb','PassengerId']\n",
    "data_vars=Test.columns.values.tolist()\n",
    "to_keep=[i for i in data_vars if i not in cat_vars]\n",
    "FinalTest = Test\n",
    "FinalTest.shape"
   ]
  },
  {
   "cell_type": "markdown",
   "metadata": {},
   "source": [
    " ## Splitting the train set into train and test "
   ]
  },
  {
   "cell_type": "code",
   "execution_count": 93,
   "metadata": {},
   "outputs": [],
   "source": [
    "from sklearn.feature_selection import RFE\n",
    "from sklearn.linear_model import LogisticRegression\n",
    "import warnings\n",
    "warnings.simplefilter(action='ignore', category=FutureWarning)\n",
    "\n",
    "data_final_vars=Train.columns.values.tolist()\n",
    "y=['y']\n",
    "X = Train.loc[:, Train.columns != 'Survived']\n",
    "y = np.ravel(Train.loc[:, Train.columns == 'Survived'])\n",
    "X_train, X_test, y_train, y_test = train_test_split(X, y, test_size=0.3, random_state=0)\n",
    "columns = X_train.columns\n",
    "X=[i for i in data_final_vars if i not in y]\n",
    "\n",
    "\n",
    "\n"
   ]
  },
  {
   "cell_type": "markdown",
   "metadata": {},
   "source": [
    "## Recursive Feature Elimination (RFE)"
   ]
  },
  {
   "cell_type": "code",
   "execution_count": 94,
   "metadata": {},
   "outputs": [
    {
     "name": "stdout",
     "output_type": "stream",
     "text": [
      "[ True False False False False False False False False False False False\n",
      " False False False  True False  True  True  True False False  True False\n",
      "  True False  True False False False False  True False  True  True False\n",
      "  True False  True False False False False False False False False False\n",
      " False False False False False False False False False  True False  True\n",
      " False  True  True False  True  True  True False False False]\n",
      "[ 1  8 36 16 20 17  7 33 40 44 39 35 37 38 26  1  5  1  1  1 24 32  1  6\n",
      "  1  3  1 34 18  2 13  1  9  1  1 14  1 30  1 11 49 45 41 50 21 31 43 27\n",
      " 47 48 25 29 46 10 42 15 51  1 22  1 28  1  1 12  1  1  1  4 23 19]\n"
     ]
    }
   ],
   "source": [
    "from sklearn.feature_selection import RFE\n",
    "from sklearn.linear_model import LogisticRegression\n",
    "logreg = LogisticRegression()\n",
    "rfe = RFE(logreg, 20)\n",
    "rfe = rfe.fit(X_train, y_train.ravel())\n",
    "print(rfe.support_)\n",
    "print(rfe.ranking_)"
   ]
  },
  {
   "cell_type": "code",
   "execution_count": 95,
   "metadata": {},
   "outputs": [
    {
     "data": {
      "text/plain": [
       "['Pclass_1', 'Sex_female', 'Title_Master', 'AgeMedian_Nor', 'GroupNo']"
      ]
     },
     "execution_count": 95,
     "metadata": {},
     "output_type": "execute_result"
    }
   ],
   "source": [
    "cols = X_train.columns.values[rfe.support_]\n",
    "cols = (['Pclass_1','Sex_female',  'Title_Master' \n",
    "         , 'AgeMedian_Nor','GroupNo' ])  \n",
    "         \n",
    "        \n",
    "#X=os_data_X[cols]\n",
    "X = X_train[cols]\n",
    "#y=os_data_y['y']\n",
    "y = y_train\n",
    "cols"
   ]
  },
  {
   "cell_type": "code",
   "execution_count": 96,
   "metadata": {},
   "outputs": [
    {
     "name": "stdout",
     "output_type": "stream",
     "text": [
      "Optimization terminated successfully.\n",
      "         Current function value: 0.437143\n",
      "         Iterations 6\n",
      "                         Results: Logit\n",
      "=================================================================\n",
      "Model:              Logit            Pseudo R-squared: 0.346     \n",
      "Dependent Variable: y                AIC:              554.6807  \n",
      "Date:               2019-04-12 17:31 BIC:              576.8535  \n",
      "No. Observations:   623              Log-Likelihood:   -272.34   \n",
      "Df Model:           4                LL-Null:          -416.19   \n",
      "Df Residuals:       618              LLR p-value:      4.8588e-61\n",
      "Converged:          1.0000           Scale:            1.0000    \n",
      "No. Iterations:     6.0000                                       \n",
      "-----------------------------------------------------------------\n",
      "                   Coef.  Std.Err.    z    P>|z|   [0.025  0.975]\n",
      "-----------------------------------------------------------------\n",
      "Pclass_1           1.8771   0.2722  6.8956 0.0000  1.3435  2.4106\n",
      "Sex_female         3.3018   0.2700 12.2286 0.0000  2.7726  3.8310\n",
      "Title_Master       3.0559   0.5854  5.2202 0.0000  1.9086  4.2033\n",
      "AgeMedian_Nor     -3.0945   0.4516 -6.8529 0.0000 -3.9795 -2.2094\n",
      "GroupNo           -0.6091   0.0880 -6.9180 0.0000 -0.7817 -0.4365\n",
      "=================================================================\n",
      "\n"
     ]
    }
   ],
   "source": [
    "import statsmodels.api as sm\n",
    "logit_model=sm.Logit(y,X)\n",
    "result=logit_model.fit()\n",
    "print(result.summary2())"
   ]
  },
  {
   "cell_type": "code",
   "execution_count": 97,
   "metadata": {},
   "outputs": [
    {
     "data": {
      "text/plain": [
       "LogisticRegression(C=1.0, class_weight=None, dual=False, fit_intercept=True,\n",
       "          intercept_scaling=1, max_iter=100, multi_class='warn',\n",
       "          n_jobs=None, penalty='l2', random_state=None, solver='warn',\n",
       "          tol=0.0001, verbose=0, warm_start=False)"
      ]
     },
     "execution_count": 97,
     "metadata": {},
     "output_type": "execute_result"
    }
   ],
   "source": [
    "from sklearn.linear_model import LogisticRegression\n",
    "from sklearn import metrics\n",
    "X_train, X_test, y_train, y_test = train_test_split(X, y, test_size=0.3, random_state=0)\n",
    "\n",
    "logreg = LogisticRegression()\n",
    "logreg.fit(X_train, y_train)"
   ]
  },
  {
   "cell_type": "code",
   "execution_count": 98,
   "metadata": {},
   "outputs": [
    {
     "name": "stdout",
     "output_type": "stream",
     "text": [
      "Accuracy of logistic regression classifier on test set: 0.83\n"
     ]
    }
   ],
   "source": [
    "y_pred = logreg.predict(X_test)\n",
    "print('Accuracy of logistic regression classifier on test set: {:.2f}'.format(logreg.score(X_test, y_test)))"
   ]
  },
  {
   "cell_type": "code",
   "execution_count": 99,
   "metadata": {},
   "outputs": [
    {
     "name": "stdout",
     "output_type": "stream",
     "text": [
      "[[105   9]\n",
      " [ 23  50]]\n"
     ]
    }
   ],
   "source": [
    "from sklearn.metrics import confusion_matrix\n",
    "confusion_matrix = confusion_matrix(y_test, y_pred)\n",
    "print(confusion_matrix)"
   ]
  },
  {
   "cell_type": "code",
   "execution_count": 100,
   "metadata": {},
   "outputs": [
    {
     "data": {
      "image/png": "[encoded data removed]",
      "text/plain": [
       "<Figure size 432x288 with 1 Axes>"
      ]
     },
     "metadata": {
      "needs_background": "light"
     },
     "output_type": "display_data"
    }
   ],
   "source": [
    "from sklearn.metrics import roc_auc_score\n",
    "from sklearn.metrics import roc_curve\n",
    "logit_roc_auc = roc_auc_score(y_test, logreg.predict(X_test))\n",
    "fpr, tpr, thresholds = roc_curve(y_test, logreg.predict_proba(X_test)[:,1])\n",
    "plt.figure()\n",
    "plt.plot(fpr, tpr, label='Logistic Regression (area = %0.2f)' % logit_roc_auc)\n",
    "plt.plot([0, 1], [0, 1],'r--')\n",
    "plt.xlim([0.0, 1.0])\n",
    "plt.ylim([0.0, 1.05])\n",
    "plt.xlabel('False Positive Rate')\n",
    "plt.ylabel('True Positive Rate')\n",
    "plt.title('Receiver operating characteristic')\n",
    "plt.legend(loc=\"lower right\")\n",
    "plt.savefig('Log_ROC')\n",
    "plt.show()"
   ]
  },
  {
   "cell_type": "code",
   "execution_count": 101,
   "metadata": {},
   "outputs": [
    {
     "data": {
      "text/html": [
       "<div>\n",
       "<style scoped>\n",
       "    .dataframe tbody tr th:only-of-type {\n",
       "        vertical-align: middle;\n",
       "    }\n",
       "\n",
       "    .dataframe tbody tr th {\n",
       "        vertical-align: top;\n",
       "    }\n",
       "\n",
       "    .dataframe thead th {\n",
       "        text-align: right;\n",
       "    }\n",
       "</style>\n",
       "<table border=\"1\" class=\"dataframe\">\n",
       "  <thead>\n",
       "    <tr style=\"text-align: right;\">\n",
       "      <th></th>\n",
       "      <th>PassengerId</th>\n",
       "      <th>Survived</th>\n",
       "    </tr>\n",
       "  </thead>\n",
       "  <tbody>\n",
       "    <tr>\n",
       "      <th>1</th>\n",
       "      <td>892</td>\n",
       "      <td>0</td>\n",
       "    </tr>\n",
       "    <tr>\n",
       "      <th>2</th>\n",
       "      <td>893</td>\n",
       "      <td>1</td>\n",
       "    </tr>\n",
       "    <tr>\n",
       "      <th>3</th>\n",
       "      <td>894</td>\n",
       "      <td>0</td>\n",
       "    </tr>\n",
       "    <tr>\n",
       "      <th>4</th>\n",
       "      <td>895</td>\n",
       "      <td>0</td>\n",
       "    </tr>\n",
       "    <tr>\n",
       "      <th>5</th>\n",
       "      <td>896</td>\n",
       "      <td>1</td>\n",
       "    </tr>\n",
       "  </tbody>\n",
       "</table>\n",
       "</div>"
      ],
      "text/plain": [
       "   PassengerId  Survived\n",
       "1          892         0\n",
       "2          893         1\n",
       "3          894         0\n",
       "4          895         0\n",
       "5          896         1"
      ]
     },
     "execution_count": 101,
     "metadata": {},
     "output_type": "execute_result"
    }
   ],
   "source": [
    "#cols = ([  'Sex_female',  'Title_Master',\n",
    "#        'Title_Mrs', 'Cabin_Charcter_E', 'TicketChar_WC','AgeMedian','GroupNo' ])  \n",
    "X_Test = FinalTest.loc[:,cols]\n",
    "y_pred = logreg.predict(X_Test)\n",
    "#Test['PassengerId']\n",
    "df = pd.DataFrame({'PassengerId':Test['PassengerId'],'Survived':y_pred})\n",
    "df.head()"
   ]
  },
  {
   "cell_type": "code",
   "execution_count": 102,
   "metadata": {},
   "outputs": [],
   "source": [
    "df.to_csv('lgr11.csv', index= False)"
   ]
  }
 ],
 "metadata": {
  "kernelspec": {
   "display_name": "Python 3",
   "language": "python",
   "name": "python3"
  },
  "language_info": {
   "codemirror_mode": {
    "name": "ipython",
    "version": 3
   },
   "file_extension": ".py",
   "mimetype": "text/x-python",
   "name": "python",
   "nbconvert_exporter": "python",
   "pygments_lexer": "ipython3",
   "version": "3.7.1"
  }
 },
 "nbformat": 4,
 "nbformat_minor": 2
}
